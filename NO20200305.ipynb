{
  "nbformat": 4,
  "nbformat_minor": 0,
  "metadata": {
    "colab": {
      "name": "NO20200305.ipynb",
      "provenance": [],
      "collapsed_sections": [],
      "authorship_tag": "ABX9TyOvjpVacsr3Nk7ti0P9qB+M",
      "include_colab_link": true
    },
    "kernelspec": {
      "name": "python3",
      "display_name": "Python 3"
    },
    "accelerator": "GPU"
  },
  "cells": [
    {
      "cell_type": "markdown",
      "metadata": {
        "id": "view-in-github",
        "colab_type": "text"
      },
      "source": [
        "<a href=\"https://colab.research.google.com/github/LeoBKChen/DL2020/blob/master/NO20200305.ipynb\" target=\"_parent\"><img src=\"https://colab.research.google.com/assets/colab-badge.svg\" alt=\"Open In Colab\"/></a>"
      ]
    },
    {
      "cell_type": "code",
      "metadata": {
        "id": "DNq6fnZiPBKL",
        "colab_type": "code",
        "outputId": "9505a0b5-5b40-4c39-b230-07559c7b06ba",
        "colab": {
          "base_uri": "https://localhost:8080/",
          "height": 34
        }
      },
      "source": [
        "#!/usr/bin/python3\n",
        " \n",
        "print(\"Hello, World!\")"
      ],
      "execution_count": 0,
      "outputs": [
        {
          "output_type": "stream",
          "text": [
            "Hello, World!\n"
          ],
          "name": "stdout"
        }
      ]
    },
    {
      "cell_type": "code",
      "metadata": {
        "id": "EdYP5UczS9Xr",
        "colab_type": "code",
        "colab": {
          "base_uri": "https://localhost:8080/",
          "height": 51
        },
        "outputId": "848b6c49-ded6-43e4-e4f6-d621846581c7"
      },
      "source": [
        "x = input('Enter your name:')\n",
        "print('Hello, ' + x)"
      ],
      "execution_count": 1,
      "outputs": [
        {
          "output_type": "stream",
          "text": [
            "Enter your name:leo\n",
            "Hello, leo\n"
          ],
          "name": "stdout"
        }
      ]
    },
    {
      "cell_type": "code",
      "metadata": {
        "id": "edVG5i2HTEyc",
        "colab_type": "code",
        "colab": {
          "base_uri": "https://localhost:8080/",
          "height": 68
        },
        "outputId": "c0f8d8c0-9f15-4988-a2de-9b13b381435e"
      },
      "source": [
        "a = input(\"請輸入：\")\n",
        "print(a)\n",
        "type(a)"
      ],
      "execution_count": 5,
      "outputs": [
        {
          "output_type": "stream",
          "text": [
            "請輸入：100\n",
            "100\n"
          ],
          "name": "stdout"
        },
        {
          "output_type": "execute_result",
          "data": {
            "text/plain": [
              "str"
            ]
          },
          "metadata": {
            "tags": []
          },
          "execution_count": 5
        }
      ]
    },
    {
      "cell_type": "code",
      "metadata": {
        "id": "i9QCBS5rTUtW",
        "colab_type": "code",
        "colab": {
          "base_uri": "https://localhost:8080/",
          "height": 51
        },
        "outputId": "42a3ddac-e6e6-4daf-a44d-7127d9098b9b"
      },
      "source": [
        "a = input(\"請輸入：\")\n",
        "a\n",
        "b=int(a)+1\n",
        "b"
      ],
      "execution_count": 8,
      "outputs": [
        {
          "output_type": "stream",
          "text": [
            "請輸入：100\n"
          ],
          "name": "stdout"
        },
        {
          "output_type": "execute_result",
          "data": {
            "text/plain": [
              "101"
            ]
          },
          "metadata": {
            "tags": []
          },
          "execution_count": 8
        }
      ]
    },
    {
      "cell_type": "code",
      "metadata": {
        "id": "CkRxMyx7Te1o",
        "colab_type": "code",
        "colab": {
          "base_uri": "https://localhost:8080/",
          "height": 51
        },
        "outputId": "932b7c75-e4e9-4498-b4e0-d44057cde8ad"
      },
      "source": [
        "a = eval(input(\"請輸入：\"))\n",
        "a\n",
        "b=a+1\n",
        "b"
      ],
      "execution_count": 9,
      "outputs": [
        {
          "output_type": "stream",
          "text": [
            "請輸入：100\n"
          ],
          "name": "stdout"
        },
        {
          "output_type": "execute_result",
          "data": {
            "text/plain": [
              "101"
            ]
          },
          "metadata": {
            "tags": []
          },
          "execution_count": 9
        }
      ]
    },
    {
      "cell_type": "code",
      "metadata": {
        "id": "jRDw-F3lTohG",
        "colab_type": "code",
        "colab": {
          "base_uri": "https://localhost:8080/",
          "height": 51
        },
        "outputId": "265cfc42-99da-4a11-c658-d43ccf73b483"
      },
      "source": [
        "a,b = eval(input(\"請輸入兩個數位：\"))\n",
        "a,b"
      ],
      "execution_count": 10,
      "outputs": [
        {
          "output_type": "stream",
          "text": [
            "請輸入兩個數位：12,15\n"
          ],
          "name": "stdout"
        },
        {
          "output_type": "execute_result",
          "data": {
            "text/plain": [
              "(12, 15)"
            ]
          },
          "metadata": {
            "tags": []
          },
          "execution_count": 10
        }
      ]
    },
    {
      "cell_type": "code",
      "metadata": {
        "id": "vRjhE_fJTzL0",
        "colab_type": "code",
        "colab": {
          "base_uri": "https://localhost:8080/",
          "height": 437
        },
        "outputId": "c6042465-3e93-469c-d418-d8d8ecd68dd3"
      },
      "source": [
        "# -*- coding: utf-8 -*-\n",
        "\"\"\"Python_2_2_string.ipynb\n",
        "\n",
        "Automatically generated by Colaboratory.\n",
        "\n",
        "Original file is located at\n",
        "    https://colab.research.google.com/github/MyDearGreatTeacher/HappyPythonDay/blob/master/Python_2_2_string.ipynb\n",
        "\n",
        "# string字串 資料型態(data type) 及其運算\n",
        "\n",
        "## 字串\n",
        "\n",
        "Python 字串資料型態 (str) \n",
        "\n",
        "變數值以一對雙引號 (「\"」)或單引號 (「'」)\n",
        "\"\"\"\n",
        "\n",
        "str1 = '這是字串'\n",
        "print(str1)\n",
        "\n",
        "str2 = \"這也是字串\"\n",
        "print(str2)\n",
        "\n",
        "str3 = 'allows embedded \"double\" quotes'\n",
        "print(str3)\n",
        "\n",
        "\"\"\"## 存取字串中的值: 使用方括號\"\"\"\n",
        "\n",
        "#!/usr/bin/python\n",
        " \n",
        "var1 = 'Hello Python!'\n",
        " \n",
        "print(\"var1[0]: \", var1[0])\n",
        "print(\"var1[1:8]: \", var1[1:8])\n",
        "\n",
        "\"\"\"## 字串的更新\"\"\"\n",
        "\n",
        "#!/usr/bin/python\n",
        "# -*- coding: UTF-8 -*-\n",
        " \n",
        "str1 = 'Hello World!'\n",
        "\n",
        "print(\"更新前的字串-> \", str1[:])\n",
        "print(\"更新前的字串(也可以這樣寫)-> \", str1)\n",
        "print(\"更新後的字串-> \", str1[:6] + 'Python!')\n",
        "\n",
        "\"\"\"## 字串的加法運算\"\"\"\n",
        "\n",
        "str4=str1 + str2\n",
        "print(str4)\n",
        "\n",
        "\"\"\"##  更多練習\"\"\"\n",
        "\n",
        "a='  Hello   '\n",
        "b='  Python ! '\n",
        "\n",
        "a+b\n",
        "\n",
        "a*2\n",
        "\n",
        "a[1:4]\n",
        "\n",
        "\"H\" in a\n",
        "\n",
        "\"H\" not in a\n",
        "\n",
        "\"\"\"# 字串反轉\n",
        "\n",
        "Reverse string in Python (5 different ways)\n",
        "\n",
        "https://www.geeksforgeeks.org/reverse-string-python-5-different-ways/\n",
        "\"\"\"\n",
        "\n",
        "def reverse(s): \n",
        "    if len(s) == 0: \n",
        "        return s \n",
        "    else: \n",
        "        return reverse(s[1:]) + s[0] \n",
        "  \n",
        "#s = \"HappyHackingDay\"\n",
        "s = \"BreakAllCTF{HappyHackingDay}\"\n",
        "\n",
        "print (\"The original string  is : \",end=\"\") \n",
        "print (s) \n",
        "  \n",
        "print (\"The reversed string(using recursion) is : \",end=\"\") \n",
        "print (reverse(s))\n",
        "\n",
        "\"\"\"#   Python内建的字串函数(Built-in String Methods)\n",
        "\n",
        "底下以幾個常見的示範\n",
        "\n",
        "更多的練習請參考底下\n",
        "\n",
        "https://www.tutorialspoint.com/python/python_strings.htm\n",
        "\"\"\"\n",
        "\n",
        "str1='happy python day'\n",
        "str2='    Oh!   '\n",
        "str4=str1 + str2\n",
        "print(str4.capitalize())\n",
        "\n",
        "mystr = 'python'\n",
        "str4.find(mystr, 0)\n",
        "\n",
        "print(str4.encode(encoding='base64'))\n",
        "\n",
        "\"\"\"## isalpha() 方法檢測字串是否只由字母組成\"\"\"\n",
        "\n",
        "#!/usr/bin/python\n",
        "# -*- coding: UTF-8 -*-\n",
        " \n",
        "str = \"Python2019\"\n",
        "print(str.isalpha())\n",
        "\n",
        "#!/usr/bin/python\n",
        "# -*- coding: UTF-8 -*-\n",
        " \n",
        "str = \"Python\"\n",
        "print(str.isalpha())\n",
        "\n",
        "##  isalnum():檢測字串是否由字母和數位組成。"
      ],
      "execution_count": 21,
      "outputs": [
        {
          "output_type": "stream",
          "text": [
            "這是字串\n",
            "這也是字串\n",
            "allows embedded \"double\" quotes\n",
            "var1[0]:  H\n",
            "var1[1:8]:  ello Py\n",
            "更新前的字串->  Hello World!\n",
            "更新前的字串(也可以這樣寫)->  Hello World!\n",
            "更新後的字串->  Hello Python!\n",
            "Hello World!這也是字串\n",
            "The original string  is : BreakAllCTF{HappyHackingDay}\n",
            "The reversed string(using recursion) is : }yaDgnikcaHyppaH{FTCllAkaerB\n",
            "Happy python day    oh!   \n"
          ],
          "name": "stdout"
        },
        {
          "output_type": "error",
          "ename": "LookupError",
          "evalue": "ignored",
          "traceback": [
            "\u001b[0;31m---------------------------------------------------------------------------\u001b[0m",
            "\u001b[0;31mLookupError\u001b[0m                               Traceback (most recent call last)",
            "\u001b[0;32m<ipython-input-21-4499cdf93f25>\u001b[0m in \u001b[0;36m<module>\u001b[0;34m()\u001b[0m\n\u001b[1;32m    103\u001b[0m \u001b[0mstr4\u001b[0m\u001b[0;34m.\u001b[0m\u001b[0mfind\u001b[0m\u001b[0;34m(\u001b[0m\u001b[0mmystr\u001b[0m\u001b[0;34m,\u001b[0m \u001b[0;36m0\u001b[0m\u001b[0;34m)\u001b[0m\u001b[0;34m\u001b[0m\u001b[0;34m\u001b[0m\u001b[0m\n\u001b[1;32m    104\u001b[0m \u001b[0;34m\u001b[0m\u001b[0m\n\u001b[0;32m--> 105\u001b[0;31m \u001b[0mprint\u001b[0m\u001b[0;34m(\u001b[0m\u001b[0mstr4\u001b[0m\u001b[0;34m.\u001b[0m\u001b[0mencode\u001b[0m\u001b[0;34m(\u001b[0m\u001b[0mencoding\u001b[0m\u001b[0;34m=\u001b[0m\u001b[0;34m'base64'\u001b[0m\u001b[0;34m)\u001b[0m\u001b[0;34m)\u001b[0m\u001b[0;34m\u001b[0m\u001b[0;34m\u001b[0m\u001b[0m\n\u001b[0m\u001b[1;32m    106\u001b[0m \u001b[0;34m\u001b[0m\u001b[0m\n\u001b[1;32m    107\u001b[0m \u001b[0;34m\"\"\"## isalpha() 方法檢測字串是否只由字母組成\"\"\"\u001b[0m\u001b[0;34m\u001b[0m\u001b[0;34m\u001b[0m\u001b[0m\n",
            "\u001b[0;31mLookupError\u001b[0m: 'base64' is not a text encoding; use codecs.encode() to handle arbitrary codecs"
          ]
        }
      ]
    },
    {
      "cell_type": "code",
      "metadata": {
        "id": "9Pw70T_YWf-s",
        "colab_type": "code",
        "colab": {
          "base_uri": "https://localhost:8080/",
          "height": 34
        },
        "outputId": "fecb0067-047e-48fe-9d2f-964c18f085be"
      },
      "source": [
        "a = 17 / 3\n",
        "b = 17 // 3\n",
        "c = 17 % 3\n",
        "\n",
        "a,b,c"
      ],
      "execution_count": 20,
      "outputs": [
        {
          "output_type": "execute_result",
          "data": {
            "text/plain": [
              "(5.666666666666667, 5, 2)"
            ]
          },
          "metadata": {
            "tags": []
          },
          "execution_count": 20
        }
      ]
    },
    {
      "cell_type": "code",
      "metadata": {
        "id": "RB76NyY9XPj0",
        "colab_type": "code",
        "colab": {
          "base_uri": "https://localhost:8080/",
          "height": 51
        },
        "outputId": "33d7ff1c-a662-419e-f4dc-345a6915b812"
      },
      "source": [
        "var1 = 'Hello Python!'\n",
        " \n",
        "print(\"var1[0]: \", var1[0])\n",
        "print(\"var1[1:8]: \", var1[1:8])\n"
      ],
      "execution_count": 22,
      "outputs": [
        {
          "output_type": "stream",
          "text": [
            "var1[0]:  H\n",
            "var1[1:8]:  ello Py\n"
          ],
          "name": "stdout"
        }
      ]
    },
    {
      "cell_type": "code",
      "metadata": {
        "id": "L4Twrmf-XYHL",
        "colab_type": "code",
        "colab": {
          "base_uri": "https://localhost:8080/",
          "height": 102
        },
        "outputId": "eea82962-024b-490b-f19d-06813040ec44"
      },
      "source": [
        "\n",
        "list1 = [21, 33, 14, 12, 32,98]\n",
        "\n",
        "print(list1[1])\n",
        "print(len(list1))\n",
        "print(max(list1))\n",
        "print(min(list1))\n",
        "print(sum(list1))"
      ],
      "execution_count": 26,
      "outputs": [
        {
          "output_type": "stream",
          "text": [
            "33\n",
            "6\n",
            "98\n",
            "12\n",
            "210\n"
          ],
          "name": "stdout"
        }
      ]
    },
    {
      "cell_type": "code",
      "metadata": {
        "id": "_iKjLYhQXm3W",
        "colab_type": "code",
        "colab": {
          "base_uri": "https://localhost:8080/",
          "height": 51
        },
        "outputId": "a59b4e3b-4501-4707-c0ef-b5762387234e"
      },
      "source": [
        "dict = {'Name': 'DaDaLong', 'Age': 17, 'Class': 'First'}\n",
        " \n",
        "print(\"dict['Name']: \", dict['Name'])\n",
        "print(\"dict['Age']: \", dict['Age'])"
      ],
      "execution_count": 27,
      "outputs": [
        {
          "output_type": "stream",
          "text": [
            "dict['Name']:  DaDaLong\n",
            "dict['Age']:  17\n"
          ],
          "name": "stdout"
        }
      ]
    },
    {
      "cell_type": "code",
      "metadata": {
        "id": "Thq8qJNOXt3x",
        "colab_type": "code",
        "colab": {
          "base_uri": "https://localhost:8080/",
          "height": 34
        },
        "outputId": "0ef49fcb-14f3-473e-f592-1e9db83eb3ae"
      },
      "source": [
        "-3%2"
      ],
      "execution_count": 30,
      "outputs": [
        {
          "output_type": "execute_result",
          "data": {
            "text/plain": [
              "1"
            ]
          },
          "metadata": {
            "tags": []
          },
          "execution_count": 30
        }
      ]
    },
    {
      "cell_type": "code",
      "metadata": {
        "id": "r-vyKIjgX08R",
        "colab_type": "code",
        "colab": {
          "base_uri": "https://localhost:8080/",
          "height": 34
        },
        "outputId": "51558180-a4a0-4f22-feca-76c2e58cfc28"
      },
      "source": [
        "a = 7//2\n",
        "b = 7.0//2\n",
        "c = 7//2.0\n",
        "\n",
        "a,b,c"
      ],
      "execution_count": 31,
      "outputs": [
        {
          "output_type": "execute_result",
          "data": {
            "text/plain": [
              "(3, 3.0, 3.0)"
            ]
          },
          "metadata": {
            "tags": []
          },
          "execution_count": 31
        }
      ]
    },
    {
      "cell_type": "code",
      "metadata": {
        "id": "EoEJs9dfX2hg",
        "colab_type": "code",
        "colab": {
          "base_uri": "https://localhost:8080/",
          "height": 34
        },
        "outputId": "a6235068-ee8d-4c71-b6cb-401ca97b8dd0"
      },
      "source": [
        "5 ** 2"
      ],
      "execution_count": 32,
      "outputs": [
        {
          "output_type": "execute_result",
          "data": {
            "text/plain": [
              "25"
            ]
          },
          "metadata": {
            "tags": []
          },
          "execution_count": 32
        }
      ]
    },
    {
      "cell_type": "code",
      "metadata": {
        "id": "4QvSLqs3X6tX",
        "colab_type": "code",
        "colab": {
          "base_uri": "https://localhost:8080/",
          "height": 34
        },
        "outputId": "b14352b2-7b8c-4e5d-9ec7-c0a556a23424"
      },
      "source": [
        "x = 5\n",
        "\n",
        "print(x > 3 and x < 10)"
      ],
      "execution_count": 33,
      "outputs": [
        {
          "output_type": "stream",
          "text": [
            "True\n"
          ],
          "name": "stdout"
        }
      ]
    },
    {
      "cell_type": "code",
      "metadata": {
        "id": "O94lBkQTYJgo",
        "colab_type": "code",
        "colab": {
          "base_uri": "https://localhost:8080/",
          "height": 34
        },
        "outputId": "1125fd2e-039e-47b4-c142-d2ffdda28b81"
      },
      "source": [
        "x = 5\n",
        "\n",
        "print(x > 3 or x < 4)"
      ],
      "execution_count": 34,
      "outputs": [
        {
          "output_type": "stream",
          "text": [
            "True\n"
          ],
          "name": "stdout"
        }
      ]
    },
    {
      "cell_type": "code",
      "metadata": {
        "id": "N4lHa2zkYNT3",
        "colab_type": "code",
        "colab": {
          "base_uri": "https://localhost:8080/",
          "height": 34
        },
        "outputId": "f9761b04-f811-45e5-c598-df2c77bb4004"
      },
      "source": [
        "x = 5\n",
        "\n",
        "print(not(x > 3 and x < 10))"
      ],
      "execution_count": 35,
      "outputs": [
        {
          "output_type": "stream",
          "text": [
            "False\n"
          ],
          "name": "stdout"
        }
      ]
    },
    {
      "cell_type": "code",
      "metadata": {
        "id": "fHVfKgAIYQLi",
        "colab_type": "code",
        "colab": {
          "base_uri": "https://localhost:8080/",
          "height": 153
        },
        "outputId": "51d59464-ca65-4a28-aea5-d71bd76e1c0e"
      },
      "source": [
        "a = 60            # 60 = 0011 1100 \n",
        "b = 13            # 13 = 0000 1101 \n",
        "c = 0\n",
        "\n",
        "print (\"0 - a =  60 = 0011 1100(二進位) \")\n",
        "print (\"0 - b =  13 = 0000 1101(二進位) \")\n",
        "c = a & b;        # 12 = 0000 1100\n",
        "print (\"1 - c = a & b的值為：\", c)\n",
        " \n",
        "c = a | b;        # 61 = 0011 1101 \n",
        "print (\"2 - c = a | b的值為：\", c)\n",
        " \n",
        "c = a ^ b;        # 49 = 0011 0001\n",
        "print (\"3 - c= a ^ b 的值為：\", c)\n",
        " \n",
        "c = ~a;           # -61 = 1100 0011\n",
        "print (\"4 - c = ~a的值為：\", c)\n",
        " \n",
        "c = a << 2;       # 240 = 1111 0000\n",
        "print (\"5 - c = a << 2的值為：\", c)\n",
        " \n",
        "c = a >> 2;       # 15 = 0000 1111\n",
        "print (\"6 - c = a >> 2的值為：\", c)"
      ],
      "execution_count": 36,
      "outputs": [
        {
          "output_type": "stream",
          "text": [
            "0 - a =  60 = 0011 1100(二進位) \n",
            "0 - b =  13 = 0000 1101(二進位) \n",
            "1 - c = a & b的值為： 12\n",
            "2 - c = a | b的值為： 61\n",
            "3 - c= a ^ b 的值為： 49\n",
            "4 - c = ~a的值為： -61\n",
            "5 - c = a << 2的值為： 240\n",
            "6 - c = a >> 2的值為： 15\n"
          ],
          "name": "stdout"
        }
      ]
    },
    {
      "cell_type": "code",
      "metadata": {
        "id": "x7tTB09mYXOg",
        "colab_type": "code",
        "colab": {
          "base_uri": "https://localhost:8080/",
          "height": 68
        },
        "outputId": "82be2075-82cd-4429-9053-ba3fced5d56d"
      },
      "source": [
        "x = bin(36)\n",
        "print(x)\n",
        "\n",
        "x = oct(36)\n",
        "print(x)\n",
        "\n",
        "x = hex(255)\n",
        "print(x)"
      ],
      "execution_count": 37,
      "outputs": [
        {
          "output_type": "stream",
          "text": [
            "0b100100\n",
            "0o44\n",
            "0xff\n"
          ],
          "name": "stdout"
        }
      ]
    },
    {
      "cell_type": "code",
      "metadata": {
        "id": "2MQdyyyCYdGT",
        "colab_type": "code",
        "colab": {
          "base_uri": "https://localhost:8080/",
          "height": 68
        },
        "outputId": "d5cd64ef-eaca-4ca3-9130-5c3793879146"
      },
      "source": [
        "x=int('10',2)\n",
        "print(x)\n",
        "\n",
        "x=int('10',16)\n",
        "print(x)\n",
        "\n",
        "x=int('10',8)\n",
        "print(x)"
      ],
      "execution_count": 38,
      "outputs": [
        {
          "output_type": "stream",
          "text": [
            "2\n",
            "16\n",
            "8\n"
          ],
          "name": "stdout"
        }
      ]
    },
    {
      "cell_type": "code",
      "metadata": {
        "id": "fflgjbjUYij4",
        "colab_type": "code",
        "colab": {
          "base_uri": "https://localhost:8080/",
          "height": 51
        },
        "outputId": "eeff4a3c-a78d-4d00-8671-d7659385c49f"
      },
      "source": [
        "#Round a number to only two decimals:\n",
        "\n",
        "x = round(5.76543, 2)\n",
        "print(x)\n",
        "\n",
        "# Round to the nearest integer:\n",
        "\n",
        "x = round(5.76543)\n",
        "print(x)"
      ],
      "execution_count": 39,
      "outputs": [
        {
          "output_type": "stream",
          "text": [
            "5.77\n",
            "6\n"
          ],
          "name": "stdout"
        }
      ]
    },
    {
      "cell_type": "code",
      "metadata": {
        "id": "fh-XkfKJYkgb",
        "colab_type": "code",
        "colab": {
          "base_uri": "https://localhost:8080/",
          "height": 34
        },
        "outputId": "b1435fdc-a057-4529-eac5-fb1b50fa4c7e"
      },
      "source": [
        "a = 1.0004\n",
        "int(a)\n",
        "\n",
        "b = 0.9999\n",
        "int(a)"
      ],
      "execution_count": 40,
      "outputs": [
        {
          "output_type": "execute_result",
          "data": {
            "text/plain": [
              "1"
            ]
          },
          "metadata": {
            "tags": []
          },
          "execution_count": 40
        }
      ]
    },
    {
      "cell_type": "code",
      "metadata": {
        "id": "ZrS9D90iYrUQ",
        "colab_type": "code",
        "colab": {
          "base_uri": "https://localhost:8080/",
          "height": 34
        },
        "outputId": "3d5bd427-44dd-4863-d519-f4fd84f75513"
      },
      "source": [
        "import time  # 使用python標準函數庫的time模組{處理時間的函數}\n",
        "\n",
        "date = time.localtime()\t\n",
        "print(date)"
      ],
      "execution_count": 41,
      "outputs": [
        {
          "output_type": "stream",
          "text": [
            "time.struct_time(tm_year=2020, tm_mon=3, tm_mday=5, tm_hour=6, tm_min=30, tm_sec=30, tm_wday=3, tm_yday=65, tm_isdst=0)\n"
          ],
          "name": "stdout"
        }
      ]
    },
    {
      "cell_type": "code",
      "metadata": {
        "id": "dzJuKAsOYs7o",
        "colab_type": "code",
        "colab": {
          "base_uri": "https://localhost:8080/",
          "height": 34
        },
        "outputId": "0bd23138-51c1-4093-d811-57e09b9bc52d"
      },
      "source": [
        "import time\n",
        "\n",
        "date = time.localtime()\t\t#取得目前的日期時間\n",
        "year = date[0]\n",
        "month = date[1]\n",
        "day = date[2]\n",
        "\n",
        "day_month = [31, 28, 31, 30, 31, 30, 31, 31, 30, 31, 30, 31]\n",
        "\n",
        "if year%400==0 or (year%4==0 and year%100!=0):\t#判斷是否為閏年\n",
        "  day_month[1] = 29\n",
        "\n",
        "if month==1:\n",
        "    print(day)\n",
        "else:\n",
        "    print(sum(day_month[:month-1])+day)"
      ],
      "execution_count": 42,
      "outputs": [
        {
          "output_type": "stream",
          "text": [
            "65\n"
          ],
          "name": "stdout"
        }
      ]
    },
    {
      "cell_type": "code",
      "metadata": {
        "id": "cAvqHlniY415",
        "colab_type": "code",
        "colab": {
          "base_uri": "https://localhost:8080/",
          "height": 51
        },
        "outputId": "417eeca0-e4a7-43a9-e1aa-fa1dd53eef43"
      },
      "source": [
        "year, month, day = eval(input(\"請輸入年月日\"))\n",
        "year, month, day\n",
        "\n",
        "day_month = [31, 28, 31, 30, 31, 30, 31, 31, 30, 31, 30, 31]\n",
        "\n",
        "if year%400==0 or (year%4==0 and year%100!=0):\t#判斷是否為閏年\n",
        "  day_month[1] = 29\n",
        "\n",
        "if month==1:\n",
        "    print(day)\n",
        "else:\n",
        "    print(sum(day_month[:month-1])+day)"
      ],
      "execution_count": 45,
      "outputs": [
        {
          "output_type": "stream",
          "text": [
            "請輸入年月日2020,3,5\n",
            "65\n"
          ],
          "name": "stdout"
        }
      ]
    },
    {
      "cell_type": "code",
      "metadata": {
        "id": "fYBjeM9lZH-R",
        "colab_type": "code",
        "colab": {
          "base_uri": "https://localhost:8080/",
          "height": 51
        },
        "outputId": "200de250-6de2-47c1-9628-061457cae2d1"
      },
      "source": [
        "money = int(input(\"請輸入購物金額：\"))\n",
        "\n",
        "if(money >= 10000):\n",
        "    if(money >= 100000):\n",
        "        print(money * 0.8, end=\" 元\\n\")  #八折\n",
        "    elif(money >= 50000):\n",
        "        print(money * 0.85, end=\" 元\\n\")  #八五折\n",
        "    elif(money >= 30000):\n",
        "        print(money * 0.9, end=\" 元\\n\")  #九折\n",
        "    else:\n",
        "        print(money * 0.95, end=\" 元\\n\")  #九五折\n",
        "else:\n",
        "    print(money, end=\" 元\\n\")  #未打折"
      ],
      "execution_count": 47,
      "outputs": [
        {
          "output_type": "stream",
          "text": [
            "請輸入購物金額：111111\n",
            "88888.8 元\n"
          ],
          "name": "stdout"
        }
      ]
    },
    {
      "cell_type": "code",
      "metadata": {
        "id": "dAuB4ZRoZVw4",
        "colab_type": "code",
        "colab": {
          "base_uri": "https://localhost:8080/",
          "height": 731
        },
        "outputId": "a0425230-7f1a-44fd-e018-fa3fe69cfb29"
      },
      "source": [
        "list1=range(10)\n",
        "print(list1)\n",
        "\n",
        "print(list(list1))\n",
        "\n",
        "list1=range(-4,5)\n",
        "print(list(list1))\n",
        "\n",
        "for x in range(19):\n",
        "  print(x)\n",
        "\n",
        "for x in range(0,19,2):\n",
        "  print(x)\n",
        "\n",
        "for x in range(20,11,-1):\n",
        "  print(x)\n",
        "\n",
        "for x in range(0,19,-1):\n",
        "  print(x)\n",
        "\n",
        "output = ''\n",
        "\n",
        "for x in range(0,19,3):\n",
        "  output += str(x)\n",
        "  print(output, end=\" \")\n",
        "\n",
        "output = ''\n",
        "\n",
        "for x in range(0,19,3):\n",
        "  print(x, end=\" \")\n",
        "\n",
        "list1 = range(0,19,3)\n",
        "\n",
        "for x in list1:\n",
        "  print(x, end=\" \")"
      ],
      "execution_count": 2,
      "outputs": [
        {
          "output_type": "stream",
          "text": [
            "range(0, 10)\n",
            "[0, 1, 2, 3, 4, 5, 6, 7, 8, 9]\n",
            "[-4, -3, -2, -1, 0, 1, 2, 3, 4]\n",
            "0\n",
            "1\n",
            "2\n",
            "3\n",
            "4\n",
            "5\n",
            "6\n",
            "7\n",
            "8\n",
            "9\n",
            "10\n",
            "11\n",
            "12\n",
            "13\n",
            "14\n",
            "15\n",
            "16\n",
            "17\n",
            "18\n",
            "0\n",
            "2\n",
            "4\n",
            "6\n",
            "8\n",
            "10\n",
            "12\n",
            "14\n",
            "16\n",
            "18\n",
            "20\n",
            "19\n",
            "18\n",
            "17\n",
            "16\n",
            "15\n",
            "14\n",
            "13\n",
            "12\n",
            "0 03 036 0369 036912 03691215 0369121518 0 3 6 9 12 15 18 0 3 6 9 12 15 18 "
          ],
          "name": "stdout"
        }
      ]
    },
    {
      "cell_type": "code",
      "metadata": {
        "id": "KlZ05VPfbcYc",
        "colab_type": "code",
        "colab": {
          "base_uri": "https://localhost:8080/",
          "height": 238
        },
        "outputId": "8aba3cc5-9308-438b-8d87-884829708d21"
      },
      "source": [
        "\n",
        "for n in range(5):\n",
        "  print(n)\n",
        "\n",
        "for n in range(10):\n",
        "    print(n, end='@')\n",
        "\n",
        "    #print(n, end='%%%%')\n",
        "\n",
        "mysum = 0\n",
        "\n",
        "for n in range(5):\n",
        "  mysum += n\n",
        "  print(mysum)\n",
        "\n",
        "mysum = 0\n",
        "\n",
        "for n in range(5):\n",
        "  mysum += n\n",
        "\n",
        "print(mysum)\n",
        "\n",
        "x = int(input(\"請輸入一個正整數:\"))\n",
        "mysum = 0\n",
        "\n",
        "for n in range(x):\n",
        "  mysum += n\n",
        "\n",
        "#print(mysum)"
      ],
      "execution_count": 3,
      "outputs": [
        {
          "output_type": "stream",
          "text": [
            "0\n",
            "1\n",
            "2\n",
            "3\n",
            "4\n",
            "0@1@2@3@4@5@6@7@8@9@0\n",
            "1\n",
            "3\n",
            "6\n",
            "10\n",
            "10\n",
            "請輸入一個正整數:15\n",
            "105\n"
          ],
          "name": "stdout"
        }
      ]
    },
    {
      "cell_type": "code",
      "metadata": {
        "id": "_RNR1az3bluB",
        "colab_type": "code",
        "colab": {
          "base_uri": "https://localhost:8080/",
          "height": 131
        },
        "outputId": "90335c88-3fc9-4101-d9a3-15fb9ad3fec3"
      },
      "source": [
        "#如果第五行改成  if (number % 2 = 0):\n",
        "\n",
        "#答案又會是甚麼??\n",
        "\n",
        "numbers = [21, 4, 35, 1, 8, 7, 3, 6, 9]\n",
        "my_numbers = []\n",
        "\n",
        "for number in numbers:\n",
        "  if (number % 2 = 0): \n",
        "    my_numbers.append(number)\n",
        "\n",
        "print(my_numbers)"
      ],
      "execution_count": 6,
      "outputs": [
        {
          "output_type": "error",
          "ename": "SyntaxError",
          "evalue": "ignored",
          "traceback": [
            "\u001b[0;36m  File \u001b[0;32m\"<ipython-input-6-bc227a810451>\"\u001b[0;36m, line \u001b[0;32m6\u001b[0m\n\u001b[0;31m    if (number % 2 = 0):\u001b[0m\n\u001b[0m                   ^\u001b[0m\n\u001b[0;31mSyntaxError\u001b[0m\u001b[0;31m:\u001b[0m invalid syntax\n"
          ]
        }
      ]
    },
    {
      "cell_type": "code",
      "metadata": {
        "id": "NRj3SAG_btpw",
        "colab_type": "code",
        "colab": {
          "base_uri": "https://localhost:8080/",
          "height": 1000
        },
        "outputId": "be6b35d7-d8e4-4986-8e64-3563aee9cc31"
      },
      "source": [
        "#!/usr/bin/python\n",
        "# -*- coding: UTF-8 -*-\n",
        " \n",
        "for i in range(1,6):\n",
        "    for j in range(1,5):\n",
        "        for k in range(1,7):\n",
        "            if( i != k ) and (i != j) and (j != k):\n",
        "                print(i,j,k)"
      ],
      "execution_count": 7,
      "outputs": [
        {
          "output_type": "stream",
          "text": [
            "1 2 3\n",
            "1 2 4\n",
            "1 2 5\n",
            "1 2 6\n",
            "1 3 2\n",
            "1 3 4\n",
            "1 3 5\n",
            "1 3 6\n",
            "1 4 2\n",
            "1 4 3\n",
            "1 4 5\n",
            "1 4 6\n",
            "2 1 3\n",
            "2 1 4\n",
            "2 1 5\n",
            "2 1 6\n",
            "2 3 1\n",
            "2 3 4\n",
            "2 3 5\n",
            "2 3 6\n",
            "2 4 1\n",
            "2 4 3\n",
            "2 4 5\n",
            "2 4 6\n",
            "3 1 2\n",
            "3 1 4\n",
            "3 1 5\n",
            "3 1 6\n",
            "3 2 1\n",
            "3 2 4\n",
            "3 2 5\n",
            "3 2 6\n",
            "3 4 1\n",
            "3 4 2\n",
            "3 4 5\n",
            "3 4 6\n",
            "4 1 2\n",
            "4 1 3\n",
            "4 1 5\n",
            "4 1 6\n",
            "4 2 1\n",
            "4 2 3\n",
            "4 2 5\n",
            "4 2 6\n",
            "4 3 1\n",
            "4 3 2\n",
            "4 3 5\n",
            "4 3 6\n",
            "5 1 2\n",
            "5 1 3\n",
            "5 1 4\n",
            "5 1 6\n",
            "5 2 1\n",
            "5 2 3\n",
            "5 2 4\n",
            "5 2 6\n",
            "5 3 1\n",
            "5 3 2\n",
            "5 3 4\n",
            "5 3 6\n",
            "5 4 1\n",
            "5 4 2\n",
            "5 4 3\n",
            "5 4 6\n"
          ],
          "name": "stdout"
        }
      ]
    },
    {
      "cell_type": "code",
      "metadata": {
        "id": "dtVtyhOGbx4g",
        "colab_type": "code",
        "colab": {
          "base_uri": "https://localhost:8080/",
          "height": 68
        },
        "outputId": "3911cbde-4fea-4b81-fc08-c5b6857ba6ab"
      },
      "source": [
        "#!/usr/bin/python\n",
        "# -*- coding: UTF-8 -*-\n",
        " \n",
        "i = int(input('淨利潤:'))\n",
        "\n",
        "arr = [1000000,600000,400000,200000,100000,0]\n",
        "rat = [0.01,0.015,0.03,0.05,0.075,0.1]\n",
        "r = 0\n",
        "\n",
        "for idx in range(0,6):\n",
        "    if i>arr[idx]:\n",
        "        r+=(i-arr[idx])*rat[idx]\n",
        "        print((i-arr[idx])*rat[idx])\n",
        "        i=arr[idx]\n",
        "\n",
        "print(r)"
      ],
      "execution_count": 9,
      "outputs": [
        {
          "output_type": "stream",
          "text": [
            "淨利潤:60000\n",
            "6000.0\n",
            "6000.0\n"
          ],
          "name": "stdout"
        }
      ]
    },
    {
      "cell_type": "code",
      "metadata": {
        "id": "eAD639R4b9nU",
        "colab_type": "code",
        "colab": {
          "base_uri": "https://localhost:8080/",
          "height": 51
        },
        "outputId": "903df5a6-e2f2-43d6-a8ce-35331cf28679"
      },
      "source": [
        "total = i = 1\n",
        "\n",
        "n = int(input(\"請輸入正整數 n 的值：\"))\n",
        "\n",
        "while(i<=n):\n",
        "    total *= i  \n",
        "    i+=1      \n",
        "\n",
        "print(\"%d!=%d\" % (n, total))"
      ],
      "execution_count": 10,
      "outputs": [
        {
          "output_type": "stream",
          "text": [
            "請輸入正整數 n 的值：6\n",
            "6!=720\n"
          ],
          "name": "stdout"
        }
      ]
    },
    {
      "cell_type": "code",
      "metadata": {
        "id": "3yI0Jf2hb_vj",
        "colab_type": "code",
        "colab": {
          "base_uri": "https://localhost:8080/",
          "height": 68
        },
        "outputId": "dd272f42-a5c4-4987-ee51-7e0f014c4b0f"
      },
      "source": [
        "fruits = [\"香蕉\",\"蘋果\",\"橘子\",\"鳳梨\",\"西瓜\"]\n",
        "\n",
        "while True:\n",
        "    fruit = input(\"請輸入喜歡的水果(Enter 結束)：\")\n",
        "\n",
        "    if (fruit==\"\"):\n",
        "       break\n",
        "\n",
        "    n = fruits.count(fruit) \n",
        "    if (n>0):  # 串列元素存在\n",
        "        p=fruits.index(fruit)\n",
        "        print(\"%s 在串列中的第 %d 項\" %(fruit,p+1))\n",
        "    else:\n",
        "        print(fruit,\"不在串列中!\")"
      ],
      "execution_count": 14,
      "outputs": [
        {
          "output_type": "stream",
          "text": [
            "請輸入喜歡的水果(Enter 結束)：香蕉\n",
            "香蕉 在串列中的第 1 項\n",
            "請輸入喜歡的水果(Enter 結束)：\n"
          ],
          "name": "stdout"
        }
      ]
    }
  ]
}